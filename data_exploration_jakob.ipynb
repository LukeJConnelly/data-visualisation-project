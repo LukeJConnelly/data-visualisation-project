{
 "cells": [
  {
   "cell_type": "code",
   "execution_count": 15,
   "metadata": {},
   "outputs": [],
   "source": [
    "import pandas as pd\n",
    "import os\n",
    "\n",
    "from utils import data_loader"
   ]
  },
  {
   "cell_type": "code",
   "execution_count": 16,
   "metadata": {},
   "outputs": [],
   "source": [
    "\n",
    "AIRPORT_DATA_PATH = \"data/GlobalAirportDatabase/GlobalAirportDatabase.txt\"\n",
    "FLIGHT_DATA_PATH = \"data/flights.csv\"\n",
    "\n",
    "FLIGHT_DATA = data_loader.load_flight_data(FLIGHT_DATA_PATH)\n",
    "AIRPORT_DATA = data_loader.load_airport_data(AIRPORT_DATA_PATH, flight_data=FLIGHT_DATA)"
   ]
  },
  {
   "cell_type": "markdown",
   "metadata": {},
   "source": [
    "# Flight data"
   ]
  },
  {
   "cell_type": "code",
   "execution_count": 17,
   "metadata": {},
   "outputs": [
    {
     "name": "stdout",
     "output_type": "stream",
     "text": [
      "from_airport_code                           object\n",
      "from_country                                object\n",
      "dest_airport_code                           object\n",
      "dest_country                                object\n",
      "aircraft_type                               object\n",
      "airline_number                              object\n",
      "airline_name                                object\n",
      "flight_number                               object\n",
      "departure_time                      datetime64[ns]\n",
      "arrival_time                        datetime64[ns]\n",
      "duration                           timedelta64[ns]\n",
      "stops                                        int64\n",
      "price                                      float64\n",
      "currency                                    object\n",
      "co2_emissions                              float64\n",
      "avg_co2_emission_for_this_route            float64\n",
      "co2_percentage                              object\n",
      "scan_date                           datetime64[ns]\n",
      "dtype: object\n"
     ]
    }
   ],
   "source": [
    "print(FLIGHT_DATA.dtypes)"
   ]
  },
  {
   "cell_type": "markdown",
   "metadata": {},
   "source": [
    "# Airport data"
   ]
  },
  {
   "cell_type": "code",
   "execution_count": 12,
   "metadata": {},
   "outputs": [
    {
     "name": "stdout",
     "output_type": "stream",
     "text": [
      "ICAO Code                     object\n",
      "IATA Code                     object\n",
      "Airport Name                  object\n",
      "City/Town                     object\n",
      "Country                       object\n",
      "Latitude Degrees               int32\n",
      "Latitude Minutes               int32\n",
      "Latitude Seconds               int32\n",
      "Latitude Direction            object\n",
      "Longitude Degrees              int32\n",
      "Longitude Minutes              int32\n",
      "Longitude Seconds              int32\n",
      "Longitude Direction           object\n",
      "Altitude                       int32\n",
      "Latitude Decimal Degrees     float64\n",
      "Longitude Decimal Degrees    float64\n",
      "flights in                     int32\n",
      "flights out                    int32\n",
      "flight_degree                  int64\n",
      "dtype: object\n",
      "\n",
      "Number of airports with flights: 78\n",
      "All airports with flights: ['PTY', 'PHX', 'SCL', 'PVG', 'ATH', 'CGO', 'ADD', 'ORD', 'CAN', 'BLR', 'ALG', 'NRT', 'SZX', 'MIA', 'CTU', 'JNB', 'SFO', 'JFK', 'ICN', 'DEL', 'MUC', 'OSL', 'NBO', 'BKK', 'SVO', 'DUB', 'PEK', 'IST', 'CNF', 'CGK', 'SAW', 'CAI', 'CPH', 'MCO', 'CLT', 'FRA', 'LHR', 'TPE', 'AMS', 'MXP', 'YYZ', 'MAD', 'CMN', 'ZRH', 'VIE', 'SGN', 'BRU', 'KUL', 'HGH', 'BOG', 'LAX', 'SYD', 'HND', 'LGW', 'VCP', 'BOM', 'LIM', 'SHA', 'SEA', 'DXB', 'AEP', 'MNL', 'LIS', 'IAH', 'GRU', 'MEX', 'MAN', 'FLL', 'ATL', 'XIY', 'CDG', 'DOH', 'CPT', 'MEL', 'ARN', 'SIN', 'FCO', 'DME']\n"
     ]
    }
   ],
   "source": [
    "print(AIRPORT_DATA.dtypes, end=\"\\n\\n\")\n",
    "all_airports = data_loader.all_airports_list(FLIGHT_DATA)\n",
    "print(\"Number of airports with flights:\", len(all_airports))\n",
    "print(\"All airports with flights:\", all_airports)"
   ]
  },
  {
   "cell_type": "markdown",
   "metadata": {},
   "source": [
    "# Time data"
   ]
  },
  {
   "cell_type": "code",
   "execution_count": 14,
   "metadata": {},
   "outputs": [
    {
     "name": "stdout",
     "output_type": "stream",
     "text": [
      "            departure_time        duration        arrival_time  \\\n",
      "0      2022-04-30 14:30:00 0 days 23:45:00 2022-05-01 10:15:00   \n",
      "1      2022-04-30 14:30:00 0 days 23:45:00 2022-05-01 10:15:00   \n",
      "2      2022-04-30 12:45:00 1 days 01:30:00 2022-05-01 10:15:00   \n",
      "3      2022-04-30 14:30:00 0 days 23:45:00 2022-05-01 10:15:00   \n",
      "4      2022-04-30 12:35:00 1 days 01:40:00 2022-05-01 10:15:00   \n",
      "...                    ...             ...                 ...   \n",
      "998861 2022-05-01 19:20:00 0 days 22:15:00 2022-05-02 22:05:00   \n",
      "998862 2022-05-01 22:20:00 0 days 19:15:00 2022-05-02 22:05:00   \n",
      "998863 2022-05-01 04:35:00 1 days 00:50:00 2022-05-02 09:55:00   \n",
      "998864 2022-05-01 06:10:00 1 days 04:15:00 2022-05-02 14:55:00   \n",
      "998865 2022-05-01 09:30:00 1 days 00:55:00 2022-05-02 14:55:00   \n",
      "\n",
      "       calculated_arrival_time  arrival_time_match_calculated  \n",
      "0          2022-05-01 14:15:00                          False  \n",
      "1          2022-05-01 14:15:00                          False  \n",
      "2          2022-05-01 14:15:00                          False  \n",
      "3          2022-05-01 14:15:00                          False  \n",
      "4          2022-05-01 14:15:00                          False  \n",
      "...                        ...                            ...  \n",
      "998861     2022-05-02 17:35:00                          False  \n",
      "998862     2022-05-02 17:35:00                          False  \n",
      "998863     2022-05-02 05:25:00                          False  \n",
      "998864     2022-05-02 10:25:00                          False  \n",
      "998865     2022-05-02 10:25:00                          False  \n",
      "\n",
      "[998866 rows x 5 columns]\n",
      "arrival_time_match_calculated\n",
      "False    832868\n",
      "True     165998\n",
      "Name: count, dtype: int64\n"
     ]
    }
   ],
   "source": [
    "\n",
    "FLIGHT_DATA[\"calculated_arrival_time\"] = FLIGHT_DATA[\"departure_time\"] + FLIGHT_DATA[\"duration\"]\n",
    "FLIGHT_DATA[\"arrival_time_match_calculated\"] = FLIGHT_DATA[\"arrival_time\"] == FLIGHT_DATA[\"calculated_arrival_time\"]\n",
    "\n",
    "TIME_DATA = FLIGHT_DATA[[\"departure_time\",\"duration\",\"arrival_time\",\"calculated_arrival_time\", \"arrival_time_match_calculated\"]]\n",
    "print(TIME_DATA)\n",
    "print(TIME_DATA['arrival_time_match_calculated'].value_counts())"
   ]
  },
  {
   "cell_type": "code",
   "execution_count": null,
   "metadata": {},
   "outputs": [],
   "source": []
  }
 ],
 "metadata": {
  "kernelspec": {
   "display_name": "Python 3",
   "language": "python",
   "name": "python3"
  },
  "language_info": {
   "codemirror_mode": {
    "name": "ipython",
    "version": 3
   },
   "file_extension": ".py",
   "mimetype": "text/x-python",
   "name": "python",
   "nbconvert_exporter": "python",
   "pygments_lexer": "ipython3",
   "version": "3.10.11"
  },
  "orig_nbformat": 4
 },
 "nbformat": 4,
 "nbformat_minor": 2
}
