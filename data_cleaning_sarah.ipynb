{
 "cells": [
  {
   "cell_type": "markdown",
   "metadata": {},
   "source": [
    "## Cleaning the CO2 data columns"
   ]
  },
  {
   "cell_type": "markdown",
   "metadata": {},
   "source": [
    "### Setup"
   ]
  },
  {
   "cell_type": "code",
   "execution_count": 7,
   "metadata": {},
   "outputs": [],
   "source": [
    "import pandas as pd\n",
    "import os\n",
    "from matplotlib import pyplot as plt\n",
    "import numpy as np\n",
    "\n",
    "from utils import data_loader"
   ]
  },
  {
   "cell_type": "markdown",
   "metadata": {},
   "source": [
    "### Getting the data"
   ]
  },
  {
   "cell_type": "code",
   "execution_count": 6,
   "metadata": {},
   "outputs": [
    {
     "data": {
      "text/html": [
       "<div>\n",
       "<style scoped>\n",
       "    .dataframe tbody tr th:only-of-type {\n",
       "        vertical-align: middle;\n",
       "    }\n",
       "\n",
       "    .dataframe tbody tr th {\n",
       "        vertical-align: top;\n",
       "    }\n",
       "\n",
       "    .dataframe thead th {\n",
       "        text-align: right;\n",
       "    }\n",
       "</style>\n",
       "<table border=\"1\" class=\"dataframe\">\n",
       "  <thead>\n",
       "    <tr style=\"text-align: right;\">\n",
       "      <th></th>\n",
       "      <th>from_airport_code</th>\n",
       "      <th>from_country</th>\n",
       "      <th>dest_airport_code</th>\n",
       "      <th>dest_country</th>\n",
       "      <th>aircraft_type</th>\n",
       "      <th>airline_number</th>\n",
       "      <th>airline_name</th>\n",
       "      <th>flight_number</th>\n",
       "      <th>departure_time</th>\n",
       "      <th>arrival_time</th>\n",
       "      <th>duration</th>\n",
       "      <th>stops</th>\n",
       "      <th>price</th>\n",
       "      <th>currency</th>\n",
       "      <th>co2_emissions</th>\n",
       "      <th>avg_co2_emission_for_this_route</th>\n",
       "      <th>co2_percentage</th>\n",
       "      <th>scan_date</th>\n",
       "    </tr>\n",
       "  </thead>\n",
       "  <tbody>\n",
       "    <tr>\n",
       "      <th>0</th>\n",
       "      <td>ALG</td>\n",
       "      <td>Algeria</td>\n",
       "      <td>AEP</td>\n",
       "      <td>Argentina</td>\n",
       "      <td>Airbus A318|Canadair RJ 1000|Airbus A330|Airbu...</td>\n",
       "      <td>multi</td>\n",
       "      <td>[Air France| Iberia| LATAM]</td>\n",
       "      <td>AF1491|AF1491|AF1491|AF1491</td>\n",
       "      <td>2022-04-30 14:30:00</td>\n",
       "      <td>2022-05-01 10:15:00</td>\n",
       "      <td>1425</td>\n",
       "      <td>3</td>\n",
       "      <td>1279.0</td>\n",
       "      <td>USD</td>\n",
       "      <td>1320000.0</td>\n",
       "      <td>1320000.0</td>\n",
       "      <td>0%</td>\n",
       "      <td>2022-04-29 17:52:59</td>\n",
       "    </tr>\n",
       "    <tr>\n",
       "      <th>1</th>\n",
       "      <td>ALG</td>\n",
       "      <td>Algeria</td>\n",
       "      <td>AEP</td>\n",
       "      <td>Argentina</td>\n",
       "      <td>Airbus A318|Canadair RJ 1000|Boeing 787|Airbus...</td>\n",
       "      <td>multi</td>\n",
       "      <td>[Air France| Iberia| LATAM]</td>\n",
       "      <td>AF1491|AF1491|AF1491|AF1491</td>\n",
       "      <td>2022-04-30 14:30:00</td>\n",
       "      <td>2022-05-01 10:15:00</td>\n",
       "      <td>1425</td>\n",
       "      <td>3</td>\n",
       "      <td>1279.0</td>\n",
       "      <td>USD</td>\n",
       "      <td>1195000.0</td>\n",
       "      <td>1320000.0</td>\n",
       "      <td>-9%</td>\n",
       "      <td>2022-04-29 17:52:59</td>\n",
       "    </tr>\n",
       "    <tr>\n",
       "      <th>2</th>\n",
       "      <td>ALG</td>\n",
       "      <td>Algeria</td>\n",
       "      <td>AEP</td>\n",
       "      <td>Argentina</td>\n",
       "      <td>Airbus A320|Airbus A321|Boeing 787|Airbus A320</td>\n",
       "      <td>multi</td>\n",
       "      <td>[Air France| LATAM]</td>\n",
       "      <td>AF1855|AF1855|AF1855|AF1855</td>\n",
       "      <td>2022-04-30 12:45:00</td>\n",
       "      <td>2022-05-01 10:15:00</td>\n",
       "      <td>1530</td>\n",
       "      <td>3</td>\n",
       "      <td>1284.0</td>\n",
       "      <td>USD</td>\n",
       "      <td>1248000.0</td>\n",
       "      <td>1320000.0</td>\n",
       "      <td>-5%</td>\n",
       "      <td>2022-04-29 17:52:59</td>\n",
       "    </tr>\n",
       "    <tr>\n",
       "      <th>3</th>\n",
       "      <td>ALG</td>\n",
       "      <td>Algeria</td>\n",
       "      <td>AEP</td>\n",
       "      <td>Argentina</td>\n",
       "      <td>Airbus A318|Airbus A320|Boeing 787|Airbus A320</td>\n",
       "      <td>multi</td>\n",
       "      <td>[Air France| LATAM]</td>\n",
       "      <td>AF1491|AF1491|AF1491|AF1491</td>\n",
       "      <td>2022-04-30 14:30:00</td>\n",
       "      <td>2022-05-01 10:15:00</td>\n",
       "      <td>1425</td>\n",
       "      <td>3</td>\n",
       "      <td>1290.0</td>\n",
       "      <td>USD</td>\n",
       "      <td>1347000.0</td>\n",
       "      <td>1320000.0</td>\n",
       "      <td>2%</td>\n",
       "      <td>2022-04-29 17:52:59</td>\n",
       "    </tr>\n",
       "    <tr>\n",
       "      <th>4</th>\n",
       "      <td>ALG</td>\n",
       "      <td>Algeria</td>\n",
       "      <td>AEP</td>\n",
       "      <td>Argentina</td>\n",
       "      <td>Airbus A321neo|Boeing 777|Airbus A320</td>\n",
       "      <td>multi</td>\n",
       "      <td>[Lufthansa| LATAM]</td>\n",
       "      <td>LH1317|LH1317|LH1317</td>\n",
       "      <td>2022-04-30 12:35:00</td>\n",
       "      <td>2022-05-01 10:15:00</td>\n",
       "      <td>1540</td>\n",
       "      <td>2</td>\n",
       "      <td>1347.0</td>\n",
       "      <td>USD</td>\n",
       "      <td>1381000.0</td>\n",
       "      <td>1320000.0</td>\n",
       "      <td>4%</td>\n",
       "      <td>2022-04-29 17:52:59</td>\n",
       "    </tr>\n",
       "  </tbody>\n",
       "</table>\n",
       "</div>"
      ],
      "text/plain": [
       "  from_airport_code from_country dest_airport_code dest_country  \\\n",
       "0               ALG      Algeria               AEP    Argentina   \n",
       "1               ALG      Algeria               AEP    Argentina   \n",
       "2               ALG      Algeria               AEP    Argentina   \n",
       "3               ALG      Algeria               AEP    Argentina   \n",
       "4               ALG      Algeria               AEP    Argentina   \n",
       "\n",
       "                                       aircraft_type airline_number  \\\n",
       "0  Airbus A318|Canadair RJ 1000|Airbus A330|Airbu...          multi   \n",
       "1  Airbus A318|Canadair RJ 1000|Boeing 787|Airbus...          multi   \n",
       "2     Airbus A320|Airbus A321|Boeing 787|Airbus A320          multi   \n",
       "3     Airbus A318|Airbus A320|Boeing 787|Airbus A320          multi   \n",
       "4              Airbus A321neo|Boeing 777|Airbus A320          multi   \n",
       "\n",
       "                  airline_name                flight_number  \\\n",
       "0  [Air France| Iberia| LATAM]  AF1491|AF1491|AF1491|AF1491   \n",
       "1  [Air France| Iberia| LATAM]  AF1491|AF1491|AF1491|AF1491   \n",
       "2          [Air France| LATAM]  AF1855|AF1855|AF1855|AF1855   \n",
       "3          [Air France| LATAM]  AF1491|AF1491|AF1491|AF1491   \n",
       "4           [Lufthansa| LATAM]         LH1317|LH1317|LH1317   \n",
       "\n",
       "        departure_time         arrival_time  duration  stops   price currency  \\\n",
       "0  2022-04-30 14:30:00  2022-05-01 10:15:00      1425      3  1279.0      USD   \n",
       "1  2022-04-30 14:30:00  2022-05-01 10:15:00      1425      3  1279.0      USD   \n",
       "2  2022-04-30 12:45:00  2022-05-01 10:15:00      1530      3  1284.0      USD   \n",
       "3  2022-04-30 14:30:00  2022-05-01 10:15:00      1425      3  1290.0      USD   \n",
       "4  2022-04-30 12:35:00  2022-05-01 10:15:00      1540      2  1347.0      USD   \n",
       "\n",
       "   co2_emissions  avg_co2_emission_for_this_route co2_percentage  \\\n",
       "0      1320000.0                        1320000.0             0%   \n",
       "1      1195000.0                        1320000.0            -9%   \n",
       "2      1248000.0                        1320000.0            -5%   \n",
       "3      1347000.0                        1320000.0             2%   \n",
       "4      1381000.0                        1320000.0             4%   \n",
       "\n",
       "             scan_date  \n",
       "0  2022-04-29 17:52:59  \n",
       "1  2022-04-29 17:52:59  \n",
       "2  2022-04-29 17:52:59  \n",
       "3  2022-04-29 17:52:59  \n",
       "4  2022-04-29 17:52:59  "
      ]
     },
     "execution_count": 6,
     "metadata": {},
     "output_type": "execute_result"
    }
   ],
   "source": [
    "flight_data = pd.read_csv(\"../Project/flight_data.csv\")\n",
    "flight_data.head()"
   ]
  },
  {
   "cell_type": "markdown",
   "metadata": {},
   "source": [
    "### Cleaning"
   ]
  },
  {
   "cell_type": "markdown",
   "metadata": {},
   "source": [
    "Since the documentation of the data is not great, the CO2 columns (co2_emissions, avg_co2_emission_for_this_route and co2_percentage) are not really usefull. They have no unit and the averages and percentages are not clear on how they were calculated.\n",
    "\n",
    "To use the columns we will normalize the co2_emissions column:\n",
    "\n",
    "$z_{i}=\\frac{x_{i}-min(x)}{max(x)-min(x)}$\n",
    "\n",
    "$z_{i}$ is the i'th normalized value, $x_{i}$ is the i'th observed value, $min(x)$ is the minimum and $max(x)$ is the maximum for all $x$ observations."
   ]
  },
  {
   "cell_type": "markdown",
   "metadata": {},
   "source": [
    "##### co2_emissions before"
   ]
  },
  {
   "cell_type": "code",
   "execution_count": 25,
   "metadata": {},
   "outputs": [
    {
     "data": {
      "image/png": "[encoded data removed]",
      "text/plain": [
       "<Figure size 1000x700 with 1 Axes>"
      ]
     },
     "metadata": {},
     "output_type": "display_data"
    }
   ],
   "source": [
    "fig, ax = plt.subplots(figsize =(10, 7))\n",
    "ax.hist(flight_data[\"co2_emissions\"])\n",
    "plt.show()"
   ]
  },
  {
   "cell_type": "markdown",
   "metadata": {},
   "source": [
    "##### Normalize co2_emissions"
   ]
  },
  {
   "cell_type": "code",
   "execution_count": 26,
   "metadata": {},
   "outputs": [
    {
     "name": "stdout",
     "output_type": "stream",
     "text": [
      "  from_airport_code from_country dest_airport_code dest_country  \\\n",
      "0               ALG      Algeria               AEP    Argentina   \n",
      "1               ALG      Algeria               AEP    Argentina   \n",
      "2               ALG      Algeria               AEP    Argentina   \n",
      "3               ALG      Algeria               AEP    Argentina   \n",
      "4               ALG      Algeria               AEP    Argentina   \n",
      "\n",
      "                                       aircraft_type airline_number  \\\n",
      "0  Airbus A318|Canadair RJ 1000|Airbus A330|Airbu...          multi   \n",
      "1  Airbus A318|Canadair RJ 1000|Boeing 787|Airbus...          multi   \n",
      "2     Airbus A320|Airbus A321|Boeing 787|Airbus A320          multi   \n",
      "3     Airbus A318|Airbus A320|Boeing 787|Airbus A320          multi   \n",
      "4              Airbus A321neo|Boeing 777|Airbus A320          multi   \n",
      "\n",
      "                  airline_name                flight_number  \\\n",
      "0  [Air France| Iberia| LATAM]  AF1491|AF1491|AF1491|AF1491   \n",
      "1  [Air France| Iberia| LATAM]  AF1491|AF1491|AF1491|AF1491   \n",
      "2          [Air France| LATAM]  AF1855|AF1855|AF1855|AF1855   \n",
      "3          [Air France| LATAM]  AF1491|AF1491|AF1491|AF1491   \n",
      "4           [Lufthansa| LATAM]         LH1317|LH1317|LH1317   \n",
      "\n",
      "        departure_time         arrival_time  duration  stops   price currency  \\\n",
      "0  2022-04-30 14:30:00  2022-05-01 10:15:00      1425      3  1279.0      USD   \n",
      "1  2022-04-30 14:30:00  2022-05-01 10:15:00      1425      3  1279.0      USD   \n",
      "2  2022-04-30 12:45:00  2022-05-01 10:15:00      1530      3  1284.0      USD   \n",
      "3  2022-04-30 14:30:00  2022-05-01 10:15:00      1425      3  1290.0      USD   \n",
      "4  2022-04-30 12:35:00  2022-05-01 10:15:00      1540      2  1347.0      USD   \n",
      "\n",
      "   co2_emissions  avg_co2_emission_for_this_route co2_percentage  \\\n",
      "0       0.091208                        1320000.0             0%   \n",
      "1       0.082280                        1320000.0            -9%   \n",
      "2       0.086065                        1320000.0            -5%   \n",
      "3       0.093136                        1320000.0             2%   \n",
      "4       0.095565                        1320000.0             4%   \n",
      "\n",
      "             scan_date  \n",
      "0  2022-04-29 17:52:59  \n",
      "1  2022-04-29 17:52:59  \n",
      "2  2022-04-29 17:52:59  \n",
      "3  2022-04-29 17:52:59  \n",
      "4  2022-04-29 17:52:59  \n"
     ]
    }
   ],
   "source": [
    "def min_max_scaling(column):\n",
    "    return (column - column.min()) / (column.max() - column.min())\n",
    "\n",
    "flight_data[\"co2_emissions\"] = min_max_scaling(flight_data[\"co2_emissions\"])"
   ]
  },
  {
   "cell_type": "markdown",
   "metadata": {},
   "source": [
    "#### co2_emissions after"
   ]
  },
  {
   "cell_type": "code",
   "execution_count": 27,
   "metadata": {},
   "outputs": [
    {
     "data": {
      "image/png": "[encoded data removed]",
      "text/plain": [
       "<Figure size 1000x700 with 1 Axes>"
      ]
     },
     "metadata": {},
     "output_type": "display_data"
    }
   ],
   "source": [
    "fig, ax = plt.subplots(figsize =(10, 7))\n",
    "ax.hist(flight_data[\"co2_emissions\"])\n",
    "plt.show()"
   ]
  },
  {
   "cell_type": "markdown",
   "metadata": {},
   "source": [
    "The histograms look the same, with the exception of the x-axis now being between values of 0 and 1. This indicates that the normalization has worked. We can now move on to the avg_co2_emission_for_this_route, where we want to find an average for each combination of from_airport_code and dest_airport_code, averaging the values in each group."
   ]
  },
  {
   "cell_type": "code",
   "execution_count": 39,
   "metadata": {},
   "outputs": [
    {
     "name": "stdout",
     "output_type": "stream",
     "text": [
      "from_airport_code  dest_airport_code\n",
      "ADD                AEP                  0.127204\n",
      "                   ALG                  0.058008\n",
      "                   AMS                  0.048971\n",
      "                   ARN                  0.046727\n",
      "                   ATH                  0.044391\n",
      "                                          ...   \n",
      "YYZ                TPE                  0.115010\n",
      "                   VCP                  0.077961\n",
      "                   VIE                  0.053523\n",
      "                   XIY                  0.126325\n",
      "                   ZRH                  0.050169\n",
      "Name: co2_emissions, Length: 2268, dtype: float64\n"
     ]
    }
   ],
   "source": [
    "groups = flight_data.groupby([\"from_airport_code\", \"dest_airport_code\"])[\"co2_emissions\"].mean()"
   ]
  },
  {
   "cell_type": "code",
   "execution_count": 69,
   "metadata": {},
   "outputs": [],
   "source": [
    "for index, row in flight_data.iterrows():\n",
    "    flight_data.at[index, \"avg_co2_emission_for_this_route\"] = groups[row[\"from_airport_code\"]][row[\"dest_airport_code\"]]"
   ]
  },
  {
   "cell_type": "markdown",
   "metadata": {},
   "source": [
    "For each route an average of the normalized function can be used as a value for avg_co2_emission_for_this_route. The difference between the average and the route can be calculated as a percentage and be the value for a new co2_percentage column."
   ]
  },
  {
   "cell_type": "code",
   "execution_count": 71,
   "metadata": {},
   "outputs": [],
   "source": [
    "for index, row in flight_data.iterrows():\n",
    "    flight_data.at[index, \"co2_percentage\"] = ((row[\"avg_co2_emission_for_this_route\"] - row[\"co2_emissions\"])/row[\"avg_co2_emission_for_this_route\"])"
   ]
  }
 ],
 "metadata": {
  "kernelspec": {
   "display_name": "base",
   "language": "python",
   "name": "python3"
  },
  "language_info": {
   "codemirror_mode": {
    "name": "ipython",
    "version": 3
   },
   "file_extension": ".py",
   "mimetype": "text/x-python",
   "name": "python",
   "nbconvert_exporter": "python",
   "pygments_lexer": "ipython3",
   "version": "3.10.9"
  }
 },
 "nbformat": 4,
 "nbformat_minor": 2
}
